{
 "cells": [
  {
   "cell_type": "markdown",
   "metadata": {},
   "source": [
    "计算物品相似度(基于物品共现在用户历史行为中)\n",
    "- 建立用户物品倒排表 {user: items}\n",
    "- 构建物品的共现矩阵 {item : {item : 0/1}}\n",
    "- 计算相似度 $w_{ij}=\\frac{N(i)\\bigcap N(j)}{N(i)}$ 同时喜欢物品i和物品j的用户数除以喜欢物品i的总数 ： 表示与i相似的物品\n",
    "\n",
    "推荐物品的计算\n",
    "- 推荐物品i, 找到与物品i相似的k个物品 K\n",
    "- 找到与用户u过去喜欢的物品like\n",
    "- 求相似并喜欢的交集$KL = K\\bigcap L$\n",
    "- 计算用户u与物品i的关联度$P_{u,i}=\\sum_{j=1}^{KL}w_{i,j}*P_{u,j}$\n",
    "- 推荐P高的几个物品\n"
   ]
  },
  {
   "cell_type": "code",
   "execution_count": 2,
   "metadata": {},
   "outputs": [],
   "source": [
    "import json\n",
    "import random\n",
    "import math\n",
    "import os\n",
    "import numpy as np"
   ]
  },
  {
   "cell_type": "code",
   "execution_count": 38,
   "metadata": {},
   "outputs": [],
   "source": [
    "class ItemCFRec(object):\n",
    "    # 每次训练选择的训练集和测试集不一致，所以会导致出现有些没有出现在训练集中\n",
    "    \n",
    "    def __init__(self,data_file='../../data/ch5/ml-1m/ratings.dat',ratio=0.9):\n",
    "        \"\"\"\n",
    "        @params:\n",
    "            data_file：记录用户评分(用户历史行为)文件\n",
    "            retio: train与test数据集的比例\n",
    "        @return:\n",
    "        \"\"\"\n",
    "        self.data_file = data_file\n",
    "        self.ratio = ratio\n",
    "        self.data = self.load_data()\n",
    "        self.train_data,self.test_data = self.train_test_split()\n",
    "        self.item_similariy_calculation()\n",
    "        \n",
    "    def load_data(self):\n",
    "        \"\"\"\n",
    "        @params:\n",
    "        @return: data \n",
    "        \"\"\"\n",
    "        print('load data ...')\n",
    "        data = []\n",
    "        for line in open(self.data_file,'r'):\n",
    "            user_id,item_id,record,_ = line.split(\"::\")\n",
    "            data.append([user_id,item_id,int(record)])\n",
    "        return data\n",
    "    \n",
    "    def train_test_split(self):\n",
    "        \"\"\"\n",
    "        @params:\n",
    "        @return: \n",
    "            train_data,test_data\n",
    "        \"\"\"\n",
    "        print('train_test_split...')\n",
    "        data = np.random.permutation(self.data)\n",
    "        train_data = {}\n",
    "        for (user,item,record) in data[:int(len(data)*self.ratio)]:\n",
    "            train_data.setdefault(user,{})\n",
    "            train_data[user][item] = int(record)\n",
    "        test_data = {}\n",
    "        for (user,item,record) in data[int(len(data)*self.ratio):]:\n",
    "            test_data.setdefault(user,{})\n",
    "            test_data[user][item] = int(record)\n",
    "        return train_data,test_data\n",
    "    \n",
    "    def item_similariy_calculation(self,sim_file='../../data/item_sim.json'):\n",
    "        \"\"\"计算物品之间的相似度\n",
    "        \"\"\"\n",
    "        if os.path.exists(sim_file):\n",
    "            print('load similarity from file ...')\n",
    "            self.item_similariy = json.load(open(sim_file,'r'))\n",
    "        else:\n",
    "            # 构建倒排表:\n",
    "            print('calculate similarity ...')\n",
    "            user_items = {}\n",
    "            item_item_count = {}\n",
    "            item_user_count = {} # 统计物品item被多少个用户喜欢\n",
    "            for user,items in self.train_data.items():\n",
    "                for item_x in items:\n",
    "                    item_user_count.setdefault(item_x,0)\n",
    "                    if items[item_x] > 0.0:\n",
    "                        item_user_count[item_x] += 1\n",
    "                        for item_y in items:\n",
    "                            item_item_count.setdefault(item_x,{})\n",
    "                            item_item_count[item_x].setdefault(item_y,0)\n",
    "                            if item_x != item_y and items[item_y]>0.0:\n",
    "                                item_item_count[item_x][item_y] += 1\n",
    "            # 计算相似度\n",
    "            item_similarity = {}\n",
    "            for item_x in item_item_count:\n",
    "                item_similarity.setdefault(item_x,{})\n",
    "                for item_y in item_item_count[item_x]:\n",
    "                    item_similarity[item_x][item_y] = item_item_count[item_x][item_y] / (math.sqrt(item_user_count[item_x]*item_user_count[item_y] + 0.00000001))\n",
    "            json.dump(item_similarity,open(sim_file,'w'))\n",
    "            self.item_similariy = item_similarity\n",
    "    \n",
    "    def recommend(self,user,k=8,n=40):\n",
    "        \"\"\"根据物品相似度对用户user推荐物品\n",
    "        @params:\n",
    "            user\n",
    "            k=8\n",
    "            n=10\n",
    "        @return:\n",
    "            recommendation\n",
    "        \"\"\"\n",
    "        result = {}\n",
    "        u_items = self.train_data.get(user,{})  # 获得user的物品列表\n",
    "        for u_item in u_items:\n",
    "            for sim_item,sim_val in list(sorted(self.item_similariy.get(u_item,{}).items(),key=lambda x:x[1],reverse=True))[:k]:\n",
    "                if sim_item in u_items:\n",
    "                    continue\n",
    "                result.setdefault(sim_item,0)\n",
    "                result[sim_item] += sim_val*u_items[u_item]\n",
    "        return sorted(result.items(),key=lambda x:x[1],reverse=True)[:n]\n",
    "    \n",
    "    def precision(self,k=8,n=10):\n",
    "        \"\"\"\n",
    "        @params:\n",
    "            k=8\n",
    "            n=10\n",
    "        @return:\n",
    "            precision\n",
    "        \"\"\"\n",
    "        total = 0\n",
    "        hit = 0\n",
    "        for user,items in self.test_data.items():\n",
    "            rank = self.recommend(user,k,n)\n",
    "            for item,val in rank:\n",
    "                if item in items:\n",
    "                    hit += 1\n",
    "            total += n\n",
    "        return hit/total"
   ]
  },
  {
   "cell_type": "code",
   "execution_count": 36,
   "metadata": {},
   "outputs": [
    {
     "name": "stdout",
     "output_type": "stream",
     "text": [
      "load data ...\n",
      "train_test_split...\n",
      "load similarity from file ...\n",
      "[('1196', 15.787825933066065), ('318', 15.343585337609266), ('593', 15.037839581541544), ('364', 14.364707630229926), ('595', 14.207670517569975), ('2571', 13.929569642419104), ('296', 11.592571666025139), ('2858', 11.476533847058619), ('2096', 10.587207854647415), ('2087', 10.143471638906124), ('596', 10.106568988686695), ('1265', 9.864673610909001), ('1210', 9.427880333479925), ('2174', 9.407809817880448), ('1240', 9.220036791153465), ('2797', 9.015252354928943), ('1968', 8.57408966308178), ('1282', 8.270270476716853), ('2080', 7.639640918540172), ('1704', 6.944132695061446), ('1302', 6.655310248077166), ('356', 6.398895596117137), ('50', 6.2819552351351176), ('1198', 6.270582709688138), ('2396', 6.098466349139613), ('3448', 5.903651122619482), ('1225', 5.700910838159634), ('1688', 5.665792099085287), ('1028', 5.618362085960438), ('1784', 5.597979141504153), ('1682', 5.480621654143118), ('1032', 5.361349741754148), ('1393', 5.339110325822492), ('2565', 5.261311019292179), ('589', 5.222831434987794), ('1213', 4.950680461714247), ('2997', 4.9035796255083355), ('1580', 4.81576665282028), ('1307', 4.544384031009361), ('1394', 4.530736226948939)]\n"
     ]
    }
   ],
   "source": [
    "cf = ItemCFRec()\n",
    "print(cf.recommend('1'))"
   ]
  },
  {
   "cell_type": "code",
   "execution_count": null,
   "metadata": {},
   "outputs": [
    {
     "name": "stdout",
     "output_type": "stream",
     "text": [
      "load data ...\n",
      "train_test_split...\n",
      "load similarity from file ...\n"
     ]
    }
   ],
   "source": [
    "cf = ItemCFRec()\n",
    "print(cf.precision())"
   ]
  },
  {
   "cell_type": "code",
   "execution_count": null,
   "metadata": {},
   "outputs": [],
   "source": []
  },
  {
   "cell_type": "code",
   "execution_count": null,
   "metadata": {},
   "outputs": [],
   "source": []
  }
 ],
 "metadata": {
  "kernelspec": {
   "display_name": "Python 3",
   "language": "python",
   "name": "python3"
  },
  "language_info": {
   "codemirror_mode": {
    "name": "ipython",
    "version": 3
   },
   "file_extension": ".py",
   "mimetype": "text/x-python",
   "name": "python",
   "nbconvert_exporter": "python",
   "pygments_lexer": "ipython3",
   "version": "3.7.3"
  }
 },
 "nbformat": 4,
 "nbformat_minor": 2
}
