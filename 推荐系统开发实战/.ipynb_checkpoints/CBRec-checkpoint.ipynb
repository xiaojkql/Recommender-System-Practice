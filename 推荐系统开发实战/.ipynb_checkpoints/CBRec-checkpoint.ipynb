{
 "cells": [
  {
   "cell_type": "markdown",
   "metadata": {},
   "source": [
    "思想: 给用户推荐与其过去喜欢的物品相似的物品，而这里的相似式基于各个物品的内容来计算的，基于物品的协同过滤中的相似是基于用户行为来计算的。\n",
    "步骤：\n",
    "- 构造Item(物品)特征\n",
    "- 基于物品内容计算每一个具体物品之间的相似度\n",
    "- 根据用户过去的行为判断用户喜欢物品的偏好\n",
    "\n",
    "物品的特征\n",
    "- 结构化属性(特征)：直接拿来用\n",
    "- 非结构化属性(特征)：需要进行进一步加工处理后才能使用(拆分或者标注)\n",
    "\n",
    "计算相似度的算法\n",
    "- 使用余弦相似度来度量用户的偏好与物品特征之间的余弦距离，余弦距离越大表示相似度越高，表示用户越对对该物品感兴趣\n",
    "\n",
    "用户的喜欢\n",
    "- 偏好模型"
   ]
  },
  {
   "cell_type": "code",
   "execution_count": 27,
   "metadata": {},
   "outputs": [],
   "source": [
    "import pandas as pd\n",
    "import json\n",
    "import pickle\n",
    "import numpy as np"
   ]
  },
  {
   "cell_type": "code",
   "execution_count": 3,
   "metadata": {},
   "outputs": [],
   "source": [
    "class DataProcessing(object):\n",
    "    \n",
    "    def __init__(self,path_dir='../../data/ch5/ml-1m/'):\n",
    "        \"\"\"\n",
    "        @params:\n",
    "            path: the dir of raw data file\n",
    "        \"\"\"\n",
    "        self.path_dir = path_dir \n",
    "        self.movie_file = path_dir+'movies.dat'\n",
    "        self.user_file = path_dir+'users.dat'\n",
    "        self.rating_file = path_dir+'ratings.dat'\n",
    "    \n",
    "    def process(self):\n",
    "        \"\"\"The entrance of processing\n",
    "        \"\"\"\n",
    "        self.process_movie()\n",
    "        self.process_user()\n",
    "        self.process_rating()\n",
    "    \n",
    "    def process_movie(self):\n",
    "        \"\"\"process movie data\n",
    "        \"\"\"\n",
    "        print('processing movie data...')\n",
    "        movie_raw = pd.read_table(self.movie_file,sep='::',engine='python',names=['MovieID','Title','Genres'])\n",
    "        movie_raw.to_csv(self.path_dir+'movie.csv',index=False)\n",
    "    \n",
    "    def process_user(self):\n",
    "        \"\"\"process user data\n",
    "        \"\"\"\n",
    "        print('processing user data')\n",
    "        user_raw = pd.read_table(self.user_file,sep='::',engine='python',names=['UserID','Gender','Age','Occupation','Zip-code'])\n",
    "        user_raw.to_csv(self.path_dir+'user.csv',index=False)\n",
    "        \n",
    "    def process_rating(self):\n",
    "        \"\"\"process rating data\n",
    "        \"\"\"\n",
    "        print('processing rating data')\n",
    "        rating_raw = pd.read_table(self.rating_file,sep='::',engine='python',names=['UserID','MovieID','Rating','Timestamp'])\n",
    "        rating_raw.to_csv(self.path_dir+'rating.csv',index=False)\n"
   ]
  },
  {
   "cell_type": "code",
   "execution_count": 4,
   "metadata": {},
   "outputs": [
    {
     "name": "stdout",
     "output_type": "stream",
     "text": [
      "processing movie data...\n",
      "processing user data\n",
      "processing rating data\n"
     ]
    },
    {
     "name": "stderr",
     "output_type": "stream",
     "text": [
      "/home/qinyuan/.pyenv/versions/3.7.3/lib/python3.7/site-packages/ipykernel_launcher.py:27: FutureWarning: read_table is deprecated, use read_csv instead.\n",
      "/home/qinyuan/.pyenv/versions/3.7.3/lib/python3.7/site-packages/ipykernel_launcher.py:34: FutureWarning: read_table is deprecated, use read_csv instead.\n",
      "/home/qinyuan/.pyenv/versions/3.7.3/lib/python3.7/site-packages/ipykernel_launcher.py:41: FutureWarning: read_table is deprecated, use read_csv instead.\n"
     ]
    }
   ],
   "source": [
    "process = DataProcessing()\n",
    "process.process()"
   ]
  },
  {
   "cell_type": "code",
   "execution_count": 18,
   "metadata": {},
   "outputs": [],
   "source": [
    "class BuildItemFeatures(object):\n",
    "    \"\"\"Build item features\"\"\"\n",
    "    def __init__(self,path='../../data/ch5/ml-1m/movie.csv'):\n",
    "        \"\"\"\n",
    "        @params:\n",
    "            path: the path of the raw movie data\n",
    "        \"\"\"\n",
    "        self.path = path\n",
    "        \n",
    "    def build_features(self):\n",
    "        \"\"\"build features\n",
    "        \"\"\"\n",
    "        print('buiding...')\n",
    "        movies = pd.read_csv(self.path)\n",
    "        movie_ids = set(movies['MovieID'].values)\n",
    "        self.movie_genres = {}\n",
    "        all_genres = []\n",
    "        p_count = 0\n",
    "        for movie in movie_ids:\n",
    "            \n",
    "            genres = movies[movies['MovieID']==movie]['Genres']\n",
    "            if p_count == 0:\n",
    "                print(genres.values) # 返回一个list，list中包含各个index处的元素的属性值\n",
    "                print(genres.values[0]) # 返回上面的list的第一个元素\n",
    "                print(genres.values[0].split('|')) # 对上面返回的第一个元素进行split\n",
    "            p_count += 1\n",
    "            \n",
    "            genres = genres.values[0].split(\"|\")\n",
    "            all_genres.extend(genres)\n",
    "            self.movie_genres.setdefault(str(movie),[]).extend(genres)\n",
    "        all_genres = list(set(all_genres))\n",
    "        num_generes = len(all_genres)\n",
    "        self.item_features = {}\n",
    "        for movie in movie_ids:\n",
    "            self.item_features.setdefault(str(movie),[0]*num_generes)\n",
    "            for genre in self.movie_genres[str(movie)]:\n",
    "                self.item_features[str(movie)][all_genres.index(genre)] = 1\n",
    "        json.dump(self.item_features,open('../../data/ch5/item_features.json','w'))\n",
    "        pickle.dump(all_genres,open('../../data/ch5/all_genres.pkl','wb'))\n",
    "        json.dump(self.movie_genres,open('../../data/ch5/movie_genres.json','w'))\n",
    "        print(all_genres)"
   ]
  },
  {
   "cell_type": "code",
   "execution_count": 19,
   "metadata": {},
   "outputs": [
    {
     "name": "stdout",
     "output_type": "stream",
     "text": [
      "buiding...\n",
      "[\"Animation|Children's|Comedy\"]\n",
      "Animation|Children's|Comedy\n",
      "['Animation', \"Children's\", 'Comedy']\n",
      "['Adventure', 'War', 'Romance', 'Action', 'Documentary', 'Musical', 'Comedy', 'Drama', 'Animation', \"Children's\", 'Crime', 'Horror', 'Film-Noir', 'Mystery', 'Thriller', 'Fantasy', 'Sci-Fi', 'Western']\n"
     ]
    }
   ],
   "source": [
    "build_movie_feature = BuildItemFeatures()\n",
    "build_movie_feature.build_features()"
   ]
  },
  {
   "cell_type": "code",
   "execution_count": 25,
   "metadata": {},
   "outputs": [],
   "source": [
    "class BuildUserProfile(object):\n",
    "    \n",
    "    def __init__(self,user_path='../../data/ch5/ml-1m/rating.csv',rating_path='../../data/ch5/ml-1m/rating.csv',all_genres='../../data/ch5/all_genres.pkl'):\n",
    "        \"\"\"Build user profile\n",
    "        @pramas:\n",
    "            path\n",
    "        \"\"\"\n",
    "        self.user_path = user_path\n",
    "        self.rating_path = rating_path\n",
    "        self.all_genres = pickle.load(open(all_genres,'rb'))\n",
    "        self.movie_genres = json.load(open(\"../../data/ch5/movie_genres.json\"))\n",
    "        \n",
    "    def build_user_profile(self):\n",
    "        \"\"\"\n",
    "        \"\"\"\n",
    "        users = pd.read_csv(self.user_path)\n",
    "        user_ids = list(map(str,users['UserID'].values))\n",
    "        self.user_ratings = {}\n",
    "        for user_id in user_ids:\n",
    "            self.user_ratings.setdefault(user_id,{})\n",
    "        first = True\n",
    "        for line in open(self.rating_path,'r'):\n",
    "            if first:\n",
    "                first = False\n",
    "                continue\n",
    "            user,item,rate = line.split(',')[:3]\n",
    "            self.user_ratings[user][item] = int(rate)\n",
    "        \n",
    "        self.user_profile = {}\n",
    "        num_genres = len(self.all_genres)\n",
    "        for user,items in self.user_ratings.items():\n",
    "            scores = items.values()\n",
    "            avg = sum(scores)/len(scores)\n",
    "            self.user_profile.setdefault(user,[0]*num_genres)\n",
    "            for i,genre in enumerate(self.all_genres):\n",
    "                score = 0.0\n",
    "                num = 0.0\n",
    "                for item in items:\n",
    "                    if genre in self.movie_genres[item]:\n",
    "                        score += self.user_ratings[user][item] - avg\n",
    "                        num += 1\n",
    "                if num:\n",
    "                    self.user_profile[user][i] = score/num\n",
    "        \n",
    "        json.dump(self.user_profile,open('../../data/ch5/user_profile.json','w'))\n",
    "                    \n",
    "        "
   ]
  },
  {
   "cell_type": "code",
   "execution_count": 26,
   "metadata": {},
   "outputs": [],
   "source": [
    "build_user_profile = BuildUserProfile()\n",
    "build_user_profile.build_user_profile()"
   ]
  },
  {
   "cell_type": "code",
   "execution_count": 30,
   "metadata": {},
   "outputs": [],
   "source": [
    "class CBRec(object):\n",
    "    \"\"\"Content based recommendation system\"\"\"\n",
    "    \n",
    "    def __init__(self,user_profile='../../data/ch5/user_profile.json',movie_features='../../data/ch5/item_features.json'):\n",
    "        \"\"\"\n",
    "        \"\"\"\n",
    "        self.user_profile = json.load(open(user_profile,'r'))\n",
    "        self.movie_features = json.load(open(movie_features,'r'))\n",
    "        \n",
    "    def get_none_rec_movie(self,user):\n",
    "        \"\"\"获取没有给用户user推荐过的电影\n",
    "        \"\"\"\n",
    "        ratings = pd.read_csv('../../data/ch5/ml-1m/rating.csv')\n",
    "        have_recommended = ratings[ratings['UserID']==user]['MovieID'].values\n",
    "        all_movies = set(self.movie_features.keys())\n",
    "        non_recommended = set(all_movies) - set(have_recommended)\n",
    "        return non_recommended\n",
    "    \n",
    "    def user_movie_similarity(self,user,movie):\n",
    "        \"\"\"计算用户对电影的偏好程度，用余弦相似性来表示偏好程度\n",
    "        @params:\n",
    "            user:\n",
    "            movie:\n",
    "        @return\n",
    "            cos_sim\n",
    "        \"\"\"\n",
    "        user = str(user)\n",
    "        movie = str(movie)\n",
    "        uia = sum(np.array(self.movie_features[movie])*np.array(self.user_profile[user]))\n",
    "        ia = np.sqrt(np.sum(np.array(self.movie_features[movie])**2))\n",
    "        ua = np.sqrt(np.sum(np.array(self.user_profile[user])**2))\n",
    "        cos_sim = uia/(ua*ia)\n",
    "        return cos_sim\n",
    "    \n",
    "    def recommend(self,user):\n",
    "        movies = self.get_none_rec_movie(user)\n",
    "        result = {}\n",
    "        for movie in movies:\n",
    "            sim = self.user_movie_similarity(user,movie)\n",
    "            result[movie] = sim\n",
    "        return sorted(result.items(),key=lambda x:x[1],reverse=True)[:10]\n",
    "    "
   ]
  },
  {
   "cell_type": "code",
   "execution_count": 32,
   "metadata": {},
   "outputs": [
    {
     "name": "stdout",
     "output_type": "stream",
     "text": [
      "[('599', 0.45997147302634817), ('3311', 0.45997147302634817), ('2921', 0.45997147302634817), ('416', 0.45997147302634817), ('3487', 0.45997147302634817), ('964', 0.45997147302634817), ('3373', 0.45997147302634817), ('553', 0.45997147302634817), ('210', 0.45997147302634817), ('3074', 0.45997147302634817)]\n"
     ]
    }
   ],
   "source": [
    "recommendation = CBRec()\n",
    "print(recommendation.recommend(2))"
   ]
  },
  {
   "cell_type": "code",
   "execution_count": null,
   "metadata": {},
   "outputs": [],
   "source": []
  }
 ],
 "metadata": {
  "kernelspec": {
   "display_name": "Python 3",
   "language": "python",
   "name": "python3"
  },
  "language_info": {
   "codemirror_mode": {
    "name": "ipython",
    "version": 3
   },
   "file_extension": ".py",
   "mimetype": "text/x-python",
   "name": "python",
   "nbconvert_exporter": "python",
   "pygments_lexer": "ipython3",
   "version": "3.7.3"
  }
 },
 "nbformat": 4,
 "nbformat_minor": 2
}
